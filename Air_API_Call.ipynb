{
 "cells": [
  {
   "cell_type": "code",
   "execution_count": 1,
   "metadata": {},
   "outputs": [],
   "source": [
    "# Dependencies\n",
    "import json\n",
    "import requests\n",
    "#from config import api_key"
   ]
  },
  {
   "cell_type": "code",
   "execution_count": 6,
   "metadata": {},
   "outputs": [],
   "source": [
    "# Save config information\n",
    "\n",
    "url = \"http://api.openweathermap.org/data/2.5/air_pollution?\"\n",
    "api_key= \"90d059c74bd13bcc4087b66e982c1bf1\"\n",
    "lat= \"50\"\n",
    "lon= \"50\"\n",
    "\n",
    "# Build query URL\n",
    "query_url = f\"{url}lat={lat}&lon={lon}&appid={api_key}\""
   ]
  },
  {
   "cell_type": "code",
   "execution_count": 7,
   "metadata": {},
   "outputs": [
    {
     "name": "stdout",
     "output_type": "stream",
     "text": [
      "The weather API responded with: {'coord': {'lon': 50, 'lat': 50}, 'list': [{'main': {'aqi': 1}, 'components': {'co': 158.55, 'no': 0, 'no2': 0.32, 'o3': 57.94, 'so2': 0.09, 'pm2_5': 1.57, 'pm10': 1.67, 'nh3': 0.33}, 'dt': 1626127200}]}.\n"
     ]
    }
   ],
   "source": [
    "# Get weather data\n",
    "aq_response = requests.get(query_url)\n",
    "air_json = aq_response.json()\n",
    "\n",
    "# Get the temperature from the response\n",
    "print(f\"The weather API responded with: {air_json}.\")"
   ]
  },
  {
   "cell_type": "code",
   "execution_count": null,
   "metadata": {},
   "outputs": [],
   "source": []
  }
 ],
 "metadata": {
  "kernelspec": {
   "display_name": "Python 3",
   "language": "python",
   "name": "python3"
  },
  "language_info": {
   "codemirror_mode": {
    "name": "ipython",
    "version": 3
   },
   "file_extension": ".py",
   "mimetype": "text/x-python",
   "name": "python",
   "nbconvert_exporter": "python",
   "pygments_lexer": "ipython3",
   "version": "3.8.5"
  }
 },
 "nbformat": 4,
 "nbformat_minor": 4
}
