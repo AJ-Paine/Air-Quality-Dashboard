{
 "cells": [
  {
   "cell_type": "code",
   "execution_count": 1,
   "metadata": {},
   "outputs": [],
   "source": [
    "# Dependencies\n",
    "import pandas as pd\n",
    "import json\n",
    "import requests\n",
    "\n",
    "# Use citipy to find the city from its latitude and longitude\n",
    "from citipy import citipy\n",
    "#from config import api_key"
   ]
  },
  {
   "cell_type": "code",
   "execution_count": 2,
   "metadata": {},
   "outputs": [
    {
     "name": "stdout",
     "output_type": "stream",
     "text": [
      "<_io.TextIOWrapper name='ColoCitiesDataClean.csv' mode='r' encoding='cp1252'>\n"
     ]
    }
   ],
   "source": [
    "with open('ColoCitiesDataClean.csv') as f:\n",
    "    print(f)"
   ]
  },
  {
   "cell_type": "code",
   "execution_count": 3,
   "metadata": {},
   "outputs": [
    {
     "data": {
      "text/html": [
       "<div>\n",
       "<style scoped>\n",
       "    .dataframe tbody tr th:only-of-type {\n",
       "        vertical-align: middle;\n",
       "    }\n",
       "\n",
       "    .dataframe tbody tr th {\n",
       "        vertical-align: top;\n",
       "    }\n",
       "\n",
       "    .dataframe thead th {\n",
       "        text-align: right;\n",
       "    }\n",
       "</style>\n",
       "<table border=\"1\" class=\"dataframe\">\n",
       "  <thead>\n",
       "    <tr style=\"text-align: right;\">\n",
       "      <th></th>\n",
       "      <th>Place Name</th>\n",
       "      <th>lat</th>\n",
       "      <th>lon</th>\n",
       "    </tr>\n",
       "  </thead>\n",
       "  <tbody>\n",
       "    <tr>\n",
       "      <th>0</th>\n",
       "      <td>Aguilar</td>\n",
       "      <td>37.403611</td>\n",
       "      <td>-104.655000</td>\n",
       "    </tr>\n",
       "    <tr>\n",
       "      <th>1</th>\n",
       "      <td>Akron</td>\n",
       "      <td>40.163333</td>\n",
       "      <td>-103.220278</td>\n",
       "    </tr>\n",
       "    <tr>\n",
       "      <th>2</th>\n",
       "      <td>Alamosa</td>\n",
       "      <td>37.475278</td>\n",
       "      <td>-105.876944</td>\n",
       "    </tr>\n",
       "    <tr>\n",
       "      <th>3</th>\n",
       "      <td>Alma</td>\n",
       "      <td>39.285833</td>\n",
       "      <td>-106.066944</td>\n",
       "    </tr>\n",
       "    <tr>\n",
       "      <th>4</th>\n",
       "      <td>Antonito</td>\n",
       "      <td>37.076111</td>\n",
       "      <td>-106.010278</td>\n",
       "    </tr>\n",
       "  </tbody>\n",
       "</table>\n",
       "</div>"
      ],
      "text/plain": [
       "  Place Name        lat         lon\n",
       "0    Aguilar  37.403611 -104.655000\n",
       "1      Akron  40.163333 -103.220278\n",
       "2    Alamosa  37.475278 -105.876944\n",
       "3       Alma  39.285833 -106.066944\n",
       "4   Antonito  37.076111 -106.010278"
      ]
     },
     "execution_count": 3,
     "metadata": {},
     "output_type": "execute_result"
    }
   ],
   "source": [
    "latlon_df = pd.read_csv(\"./ColoCitiesDataClean.csv\", encoding='cp1252')\n",
    "latlon_df.head()"
   ]
  },
  {
   "cell_type": "code",
   "execution_count": 4,
   "metadata": {},
   "outputs": [
    {
     "name": "stdout",
     "output_type": "stream",
     "text": [
      "{'coord': {'lon': -104.655, 'lat': 37.4036}, 'list': [{'main': {'aqi': 2}, 'components': {'co': 166.89, 'no': 0.03, 'no2': 0.87, 'o3': 111.58, 'so2': 0.19, 'pm2_5': 13.11, 'pm10': 16, 'nh3': 0.92}, 'dt': 1626138000}]}\n"
     ]
    }
   ],
   "source": [
    "# Save config information\n",
    "\n",
    "url = \"http://api.openweathermap.org/data/2.5/air_pollution?\"\n",
    "api_key= \"90d059c74bd13bcc4087b66e982c1bf1\"\n",
    "lat=37.40361111\n",
    "lon=-104.655\n",
    "\n",
    "query_url = f\"{url}lat={lat}&lon={lon}&appid={api_key}\"\n",
    "air_response = requests.get(query_url).json()\n",
    "\n",
    "print(air_response)"
   ]
  },
  {
   "cell_type": "code",
   "execution_count": 22,
   "metadata": {},
   "outputs": [
    {
     "name": "stdout",
     "output_type": "stream",
     "text": [
      "Processing Record 0  of Group 1 | 37.40361111-104.655.\n",
      "http://api.openweathermap.org/data/2.5/air_pollution?lat=37.40361111&lon=-104.655&appid=90d059c74bd13bcc4087b66e982c1bf1\n",
      "not working\n",
      "Processing Record 1  of Group 1 | 40.16333333-103.22027779999999.\n",
      "http://api.openweathermap.org/data/2.5/air_pollution?lat=40.16333333&lon=-103.22027779999999&appid=90d059c74bd13bcc4087b66e982c1bf1\n",
      "not working\n",
      "Processing Record 2  of Group 1 | 37.47527778-105.87694440000001.\n",
      "http://api.openweathermap.org/data/2.5/air_pollution?lat=37.47527778&lon=-105.87694440000001&appid=90d059c74bd13bcc4087b66e982c1bf1\n",
      "not working\n",
      "Processing Record 3  of Group 1 | 39.28583333-106.06694440000001.\n",
      "http://api.openweathermap.org/data/2.5/air_pollution?lat=39.28583333&lon=-106.06694440000001&appid=90d059c74bd13bcc4087b66e982c1bf1\n",
      "not working\n",
      "Processing Record 4  of Group 1 | 37.07611111-106.0102778.\n",
      "http://api.openweathermap.org/data/2.5/air_pollution?lat=37.07611111&lon=-106.0102778&appid=90d059c74bd13bcc4087b66e982c1bf1\n",
      "not working\n",
      "Processing Record 5  of Group 1 | 39.28444444-103.2741667.\n",
      "http://api.openweathermap.org/data/2.5/air_pollution?lat=39.28444444&lon=-103.2741667&appid=90d059c74bd13bcc4087b66e982c1bf1\n",
      "not working\n",
      "Processing Record 6  of Group 1 | 39.83194444-105.15111110000001.\n",
      "http://api.openweathermap.org/data/2.5/air_pollution?lat=39.83194444&lon=-105.15111110000001&appid=90d059c74bd13bcc4087b66e982c1bf1\n",
      "not working\n",
      "Processing Record 7  of Group 1 | 39.195-106.83666670000001.\n",
      "http://api.openweathermap.org/data/2.5/air_pollution?lat=39.195&lon=-106.83666670000001&appid=90d059c74bd13bcc4087b66e982c1bf1\n",
      "not working\n",
      "Processing Record 8  of Group 1 | 40.58916667-104.7391667.\n",
      "http://api.openweathermap.org/data/2.5/air_pollution?lat=40.58916667&lon=-104.7391667&appid=90d059c74bd13bcc4087b66e982c1bf1\n",
      "not working\n",
      "Processing Record 9  of Group 1 | 39.70833333-104.7238889.\n",
      "http://api.openweathermap.org/data/2.5/air_pollution?lat=39.70833333&lon=-104.7238889&appid=90d059c74bd13bcc4087b66e982c1bf1\n",
      "not working\n",
      "Processing Record 10  of Group 1 | 39.64416667-106.51305559999999.\n",
      "http://api.openweathermap.org/data/2.5/air_pollution?lat=39.64416667&lon=-106.51305559999999&appid=90d059c74bd13bcc4087b66e982c1bf1\n",
      "not working\n",
      "Processing Record 11  of Group 1 | 39.36638889-107.0413889.\n",
      "http://api.openweathermap.org/data/2.5/air_pollution?lat=39.36638889&lon=-107.0413889&appid=90d059c74bd13bcc4087b66e982c1bf1\n",
      "not working\n",
      "Processing Record 12  of Group 1 | 37.23416667-107.59527779999999.\n",
      "http://api.openweathermap.org/data/2.5/air_pollution?lat=37.23416667&lon=-107.59527779999999&appid=90d059c74bd13bcc4087b66e982c1bf1\n",
      "not working\n",
      "Processing Record 13  of Group 1 | 39.73666667-104.4286111.\n",
      "http://api.openweathermap.org/data/2.5/air_pollution?lat=39.73666667&lon=-104.4286111&appid=90d059c74bd13bcc4087b66e982c1bf1\n",
      "not working\n",
      "Processing Record 14  of Group 1 | 40.30722222-105.0425.\n",
      "http://api.openweathermap.org/data/2.5/air_pollution?lat=40.30722222&lon=-105.0425&appid=90d059c74bd13bcc4087b66e982c1bf1\n",
      "not working\n",
      "Processing Record 15  of Group 1 | 39.30388889-102.4233333.\n",
      "http://api.openweathermap.org/data/2.5/air_pollution?lat=39.30388889&lon=-102.4233333&appid=90d059c74bd13bcc4087b66e982c1bf1\n",
      "not working\n",
      "Processing Record 16  of Group 1 | 39.80416667-105.495.\n",
      "http://api.openweathermap.org/data/2.5/air_pollution?lat=39.80416667&lon=-105.495&appid=90d059c74bd13bcc4087b66e982c1bf1\n",
      "not working\n",
      "Processing Record 17  of Group 1 | 37.43916667-105.5136111.\n",
      "http://api.openweathermap.org/data/2.5/air_pollution?lat=37.43916667&lon=-105.5136111&appid=90d059c74bd13bcc4087b66e982c1bf1\n",
      "not working\n",
      "Processing Record 18  of Group 1 | 39.43583333-106.03527779999999.\n",
      "http://api.openweathermap.org/data/2.5/air_pollution?lat=39.43583333&lon=-106.03527779999999&appid=90d059c74bd13bcc4087b66e982c1bf1\n",
      "not working\n",
      "Processing Record 19  of Group 1 | 38.29666667-106.14194440000001.\n",
      "http://api.openweathermap.org/data/2.5/air_pollution?lat=38.29666667&lon=-106.14194440000001&appid=90d059c74bd13bcc4087b66e982c1bf1\n",
      "not working\n",
      "Processing Record 20  of Group 1 | 38.24944444-104.25805559999999.\n",
      "http://api.openweathermap.org/data/2.5/air_pollution?lat=38.24944444&lon=-104.25805559999999&appid=90d059c74bd13bcc4087b66e982c1bf1\n",
      "not working\n",
      "Processing Record 21  of Group 1 | 40.02472222-105.2525.\n",
      "http://api.openweathermap.org/data/2.5/air_pollution?lat=40.02472222&lon=-105.2525&appid=90d059c74bd13bcc4087b66e982c1bf1\n",
      "not working\n",
      "Processing Record 22  of Group 1 | 39.62527778-105.0511111.\n",
      "http://api.openweathermap.org/data/2.5/air_pollution?lat=39.62527778&lon=-105.0511111&appid=90d059c74bd13bcc4087b66e982c1bf1\n",
      "not working\n",
      "Processing Record 23  of Group 1 | 37.01555556-103.8838889.\n",
      "http://api.openweathermap.org/data/2.5/air_pollution?lat=37.01555556&lon=-103.8838889&appid=90d059c74bd13bcc4087b66e982c1bf1\n",
      "not working\n",
      "Processing Record 24  of Group 1 | 39.49944444-106.04333329999999.\n",
      "http://api.openweathermap.org/data/2.5/air_pollution?lat=39.49944444&lon=-106.04333329999999&appid=90d059c74bd13bcc4087b66e982c1bf1\n",
      "not working\n",
      "Processing Record 25  of Group 1 | 39.97166667-104.79638890000001.\n",
      "http://api.openweathermap.org/data/2.5/air_pollution?lat=39.97166667&lon=-104.79638890000001&appid=90d059c74bd13bcc4087b66e982c1bf1\n",
      "not working\n",
      "Processing Record 26  of Group 1 | 38.41361111-105.19083329999998.\n",
      "http://api.openweathermap.org/data/2.5/air_pollution?lat=38.41361111&lon=-105.19083329999998&appid=90d059c74bd13bcc4087b66e982c1bf1\n",
      "not working\n",
      "Processing Record 27  of Group 1 | 39.95416667-105.05277779999999.\n",
      "http://api.openweathermap.org/data/2.5/air_pollution?lat=39.95416667&lon=-105.05277779999999&appid=90d059c74bd13bcc4087b66e982c1bf1\n",
      "not working\n",
      "Processing Record 28  of Group 1 | 40.26-103.6322222.\n",
      "http://api.openweathermap.org/data/2.5/air_pollution?lat=40.26&lon=-103.6322222&appid=90d059c74bd13bcc4087b66e982c1bf1\n",
      "not working\n",
      "Processing Record 29  of Group 1 | 38.83194444-106.1386111.\n",
      "http://api.openweathermap.org/data/2.5/air_pollution?lat=38.83194444&lon=-106.1386111&appid=90d059c74bd13bcc4087b66e982c1bf1\n",
      "not working\n",
      "Processing Record 30  of Group 1 | 39.30416667-102.2713889.\n",
      "http://api.openweathermap.org/data/2.5/air_pollution?lat=39.30416667&lon=-102.2713889&appid=90d059c74bd13bcc4087b66e982c1bf1\n",
      "not working\n",
      "Processing Record 31  of Group 1 | 39.03444444-104.2994444.\n",
      "http://api.openweathermap.org/data/2.5/air_pollution?lat=39.03444444&lon=-104.2994444&appid=90d059c74bd13bcc4087b66e982c1bf1\n",
      "not working\n",
      "Processing Record 32  of Group 1 | 37.10472222-102.57888890000001.\n",
      "http://api.openweathermap.org/data/2.5/air_pollution?lat=37.10472222&lon=-102.57888890000001&appid=90d059c74bd13bcc4087b66e982c1bf1\n",
      "not working\n",
      "Processing Record 33  of Group 1 | 38.44305556-105.22027779999999.\n",
      "http://api.openweathermap.org/data/2.5/air_pollution?lat=38.44305556&lon=-105.22027779999999&appid=90d059c74bd13bcc4087b66e982c1bf1\n",
      "not working\n",
      "Processing Record 34  of Group 1 | 39.74416667-107.3391667.\n",
      "http://api.openweathermap.org/data/2.5/air_pollution?lat=39.74416667&lon=-107.3391667&appid=90d059c74bd13bcc4087b66e982c1bf1\n",
      "not working\n",
      "Processing Record 35  of Group 1 | 39.395-107.21472220000001.\n",
      "http://api.openweathermap.org/data/2.5/air_pollution?lat=39.395&lon=-107.21472220000001&appid=90d059c74bd13bcc4087b66e982c1bf1\n",
      "not working\n"
     ]
    },
    {
     "ename": "KeyboardInterrupt",
     "evalue": "",
     "output_type": "error",
     "traceback": [
      "\u001b[1;31m---------------------------------------------------------------------------\u001b[0m",
      "\u001b[1;31mKeyboardInterrupt\u001b[0m                         Traceback (most recent call last)",
      "\u001b[1;32m<ipython-input-22-1df35b8f3bdd>\u001b[0m in \u001b[0;36m<module>\u001b[1;34m\u001b[0m\n\u001b[0;32m     32\u001b[0m     \u001b[1;31m#print(lon)\u001b[0m\u001b[1;33m\u001b[0m\u001b[1;33m\u001b[0m\u001b[1;33m\u001b[0m\u001b[0m\n\u001b[0;32m     33\u001b[0m     \u001b[0mquery_url\u001b[0m \u001b[1;33m=\u001b[0m \u001b[1;34mf\"{url}lat={lat}&lon={lon}&appid={api_key}\"\u001b[0m\u001b[1;33m\u001b[0m\u001b[1;33m\u001b[0m\u001b[0m\n\u001b[1;32m---> 34\u001b[1;33m     \u001b[0mair_response\u001b[0m \u001b[1;33m=\u001b[0m \u001b[0mrequests\u001b[0m\u001b[1;33m.\u001b[0m\u001b[0mget\u001b[0m\u001b[1;33m(\u001b[0m\u001b[0mquery_url\u001b[0m\u001b[1;33m)\u001b[0m\u001b[1;33m.\u001b[0m\u001b[0mjson\u001b[0m\u001b[1;33m(\u001b[0m\u001b[1;33m)\u001b[0m\u001b[1;33m\u001b[0m\u001b[1;33m\u001b[0m\u001b[0m\n\u001b[0m\u001b[0;32m     35\u001b[0m \u001b[1;33m\u001b[0m\u001b[0m\n\u001b[0;32m     36\u001b[0m     \u001b[1;32mtry\u001b[0m\u001b[1;33m:\u001b[0m\u001b[1;33m\u001b[0m\u001b[1;33m\u001b[0m\u001b[0m\n",
      "\u001b[1;32m~\\anaconda3\\lib\\site-packages\\requests\\api.py\u001b[0m in \u001b[0;36mget\u001b[1;34m(url, params, **kwargs)\u001b[0m\n\u001b[0;32m     74\u001b[0m \u001b[1;33m\u001b[0m\u001b[0m\n\u001b[0;32m     75\u001b[0m     \u001b[0mkwargs\u001b[0m\u001b[1;33m.\u001b[0m\u001b[0msetdefault\u001b[0m\u001b[1;33m(\u001b[0m\u001b[1;34m'allow_redirects'\u001b[0m\u001b[1;33m,\u001b[0m \u001b[1;32mTrue\u001b[0m\u001b[1;33m)\u001b[0m\u001b[1;33m\u001b[0m\u001b[1;33m\u001b[0m\u001b[0m\n\u001b[1;32m---> 76\u001b[1;33m     \u001b[1;32mreturn\u001b[0m \u001b[0mrequest\u001b[0m\u001b[1;33m(\u001b[0m\u001b[1;34m'get'\u001b[0m\u001b[1;33m,\u001b[0m \u001b[0murl\u001b[0m\u001b[1;33m,\u001b[0m \u001b[0mparams\u001b[0m\u001b[1;33m=\u001b[0m\u001b[0mparams\u001b[0m\u001b[1;33m,\u001b[0m \u001b[1;33m**\u001b[0m\u001b[0mkwargs\u001b[0m\u001b[1;33m)\u001b[0m\u001b[1;33m\u001b[0m\u001b[1;33m\u001b[0m\u001b[0m\n\u001b[0m\u001b[0;32m     77\u001b[0m \u001b[1;33m\u001b[0m\u001b[0m\n\u001b[0;32m     78\u001b[0m \u001b[1;33m\u001b[0m\u001b[0m\n",
      "\u001b[1;32m~\\anaconda3\\lib\\site-packages\\requests\\api.py\u001b[0m in \u001b[0;36mrequest\u001b[1;34m(method, url, **kwargs)\u001b[0m\n\u001b[0;32m     59\u001b[0m     \u001b[1;31m# cases, and look like a memory leak in others.\u001b[0m\u001b[1;33m\u001b[0m\u001b[1;33m\u001b[0m\u001b[1;33m\u001b[0m\u001b[0m\n\u001b[0;32m     60\u001b[0m     \u001b[1;32mwith\u001b[0m \u001b[0msessions\u001b[0m\u001b[1;33m.\u001b[0m\u001b[0mSession\u001b[0m\u001b[1;33m(\u001b[0m\u001b[1;33m)\u001b[0m \u001b[1;32mas\u001b[0m \u001b[0msession\u001b[0m\u001b[1;33m:\u001b[0m\u001b[1;33m\u001b[0m\u001b[1;33m\u001b[0m\u001b[0m\n\u001b[1;32m---> 61\u001b[1;33m         \u001b[1;32mreturn\u001b[0m \u001b[0msession\u001b[0m\u001b[1;33m.\u001b[0m\u001b[0mrequest\u001b[0m\u001b[1;33m(\u001b[0m\u001b[0mmethod\u001b[0m\u001b[1;33m=\u001b[0m\u001b[0mmethod\u001b[0m\u001b[1;33m,\u001b[0m \u001b[0murl\u001b[0m\u001b[1;33m=\u001b[0m\u001b[0murl\u001b[0m\u001b[1;33m,\u001b[0m \u001b[1;33m**\u001b[0m\u001b[0mkwargs\u001b[0m\u001b[1;33m)\u001b[0m\u001b[1;33m\u001b[0m\u001b[1;33m\u001b[0m\u001b[0m\n\u001b[0m\u001b[0;32m     62\u001b[0m \u001b[1;33m\u001b[0m\u001b[0m\n\u001b[0;32m     63\u001b[0m \u001b[1;33m\u001b[0m\u001b[0m\n",
      "\u001b[1;32m~\\anaconda3\\lib\\site-packages\\requests\\sessions.py\u001b[0m in \u001b[0;36mrequest\u001b[1;34m(self, method, url, params, data, headers, cookies, files, auth, timeout, allow_redirects, proxies, hooks, stream, verify, cert, json)\u001b[0m\n\u001b[0;32m    528\u001b[0m         }\n\u001b[0;32m    529\u001b[0m         \u001b[0msend_kwargs\u001b[0m\u001b[1;33m.\u001b[0m\u001b[0mupdate\u001b[0m\u001b[1;33m(\u001b[0m\u001b[0msettings\u001b[0m\u001b[1;33m)\u001b[0m\u001b[1;33m\u001b[0m\u001b[1;33m\u001b[0m\u001b[0m\n\u001b[1;32m--> 530\u001b[1;33m         \u001b[0mresp\u001b[0m \u001b[1;33m=\u001b[0m \u001b[0mself\u001b[0m\u001b[1;33m.\u001b[0m\u001b[0msend\u001b[0m\u001b[1;33m(\u001b[0m\u001b[0mprep\u001b[0m\u001b[1;33m,\u001b[0m \u001b[1;33m**\u001b[0m\u001b[0msend_kwargs\u001b[0m\u001b[1;33m)\u001b[0m\u001b[1;33m\u001b[0m\u001b[1;33m\u001b[0m\u001b[0m\n\u001b[0m\u001b[0;32m    531\u001b[0m \u001b[1;33m\u001b[0m\u001b[0m\n\u001b[0;32m    532\u001b[0m         \u001b[1;32mreturn\u001b[0m \u001b[0mresp\u001b[0m\u001b[1;33m\u001b[0m\u001b[1;33m\u001b[0m\u001b[0m\n",
      "\u001b[1;32m~\\anaconda3\\lib\\site-packages\\requests\\sessions.py\u001b[0m in \u001b[0;36msend\u001b[1;34m(self, request, **kwargs)\u001b[0m\n\u001b[0;32m    641\u001b[0m \u001b[1;33m\u001b[0m\u001b[0m\n\u001b[0;32m    642\u001b[0m         \u001b[1;31m# Send the request\u001b[0m\u001b[1;33m\u001b[0m\u001b[1;33m\u001b[0m\u001b[1;33m\u001b[0m\u001b[0m\n\u001b[1;32m--> 643\u001b[1;33m         \u001b[0mr\u001b[0m \u001b[1;33m=\u001b[0m \u001b[0madapter\u001b[0m\u001b[1;33m.\u001b[0m\u001b[0msend\u001b[0m\u001b[1;33m(\u001b[0m\u001b[0mrequest\u001b[0m\u001b[1;33m,\u001b[0m \u001b[1;33m**\u001b[0m\u001b[0mkwargs\u001b[0m\u001b[1;33m)\u001b[0m\u001b[1;33m\u001b[0m\u001b[1;33m\u001b[0m\u001b[0m\n\u001b[0m\u001b[0;32m    644\u001b[0m \u001b[1;33m\u001b[0m\u001b[0m\n\u001b[0;32m    645\u001b[0m         \u001b[1;31m# Total elapsed time of the request (approximately)\u001b[0m\u001b[1;33m\u001b[0m\u001b[1;33m\u001b[0m\u001b[1;33m\u001b[0m\u001b[0m\n",
      "\u001b[1;32m~\\anaconda3\\lib\\site-packages\\requests\\adapters.py\u001b[0m in \u001b[0;36msend\u001b[1;34m(self, request, stream, timeout, verify, cert, proxies)\u001b[0m\n\u001b[0;32m    437\u001b[0m         \u001b[1;32mtry\u001b[0m\u001b[1;33m:\u001b[0m\u001b[1;33m\u001b[0m\u001b[1;33m\u001b[0m\u001b[0m\n\u001b[0;32m    438\u001b[0m             \u001b[1;32mif\u001b[0m \u001b[1;32mnot\u001b[0m \u001b[0mchunked\u001b[0m\u001b[1;33m:\u001b[0m\u001b[1;33m\u001b[0m\u001b[1;33m\u001b[0m\u001b[0m\n\u001b[1;32m--> 439\u001b[1;33m                 resp = conn.urlopen(\n\u001b[0m\u001b[0;32m    440\u001b[0m                     \u001b[0mmethod\u001b[0m\u001b[1;33m=\u001b[0m\u001b[0mrequest\u001b[0m\u001b[1;33m.\u001b[0m\u001b[0mmethod\u001b[0m\u001b[1;33m,\u001b[0m\u001b[1;33m\u001b[0m\u001b[1;33m\u001b[0m\u001b[0m\n\u001b[0;32m    441\u001b[0m                     \u001b[0murl\u001b[0m\u001b[1;33m=\u001b[0m\u001b[0murl\u001b[0m\u001b[1;33m,\u001b[0m\u001b[1;33m\u001b[0m\u001b[1;33m\u001b[0m\u001b[0m\n",
      "\u001b[1;32m~\\anaconda3\\lib\\site-packages\\urllib3\\connectionpool.py\u001b[0m in \u001b[0;36murlopen\u001b[1;34m(self, method, url, body, headers, retries, redirect, assert_same_host, timeout, pool_timeout, release_conn, chunked, body_pos, **response_kw)\u001b[0m\n\u001b[0;32m    668\u001b[0m \u001b[1;33m\u001b[0m\u001b[0m\n\u001b[0;32m    669\u001b[0m             \u001b[1;31m# Make the request on the httplib connection object.\u001b[0m\u001b[1;33m\u001b[0m\u001b[1;33m\u001b[0m\u001b[1;33m\u001b[0m\u001b[0m\n\u001b[1;32m--> 670\u001b[1;33m             httplib_response = self._make_request(\n\u001b[0m\u001b[0;32m    671\u001b[0m                 \u001b[0mconn\u001b[0m\u001b[1;33m,\u001b[0m\u001b[1;33m\u001b[0m\u001b[1;33m\u001b[0m\u001b[0m\n\u001b[0;32m    672\u001b[0m                 \u001b[0mmethod\u001b[0m\u001b[1;33m,\u001b[0m\u001b[1;33m\u001b[0m\u001b[1;33m\u001b[0m\u001b[0m\n",
      "\u001b[1;32m~\\anaconda3\\lib\\site-packages\\urllib3\\connectionpool.py\u001b[0m in \u001b[0;36m_make_request\u001b[1;34m(self, conn, method, url, timeout, chunked, **httplib_request_kw)\u001b[0m\n\u001b[0;32m    390\u001b[0m             \u001b[0mconn\u001b[0m\u001b[1;33m.\u001b[0m\u001b[0mrequest_chunked\u001b[0m\u001b[1;33m(\u001b[0m\u001b[0mmethod\u001b[0m\u001b[1;33m,\u001b[0m \u001b[0murl\u001b[0m\u001b[1;33m,\u001b[0m \u001b[1;33m**\u001b[0m\u001b[0mhttplib_request_kw\u001b[0m\u001b[1;33m)\u001b[0m\u001b[1;33m\u001b[0m\u001b[1;33m\u001b[0m\u001b[0m\n\u001b[0;32m    391\u001b[0m         \u001b[1;32melse\u001b[0m\u001b[1;33m:\u001b[0m\u001b[1;33m\u001b[0m\u001b[1;33m\u001b[0m\u001b[0m\n\u001b[1;32m--> 392\u001b[1;33m             \u001b[0mconn\u001b[0m\u001b[1;33m.\u001b[0m\u001b[0mrequest\u001b[0m\u001b[1;33m(\u001b[0m\u001b[0mmethod\u001b[0m\u001b[1;33m,\u001b[0m \u001b[0murl\u001b[0m\u001b[1;33m,\u001b[0m \u001b[1;33m**\u001b[0m\u001b[0mhttplib_request_kw\u001b[0m\u001b[1;33m)\u001b[0m\u001b[1;33m\u001b[0m\u001b[1;33m\u001b[0m\u001b[0m\n\u001b[0m\u001b[0;32m    393\u001b[0m \u001b[1;33m\u001b[0m\u001b[0m\n\u001b[0;32m    394\u001b[0m         \u001b[1;31m# Reset the timeout for the recv() on the socket\u001b[0m\u001b[1;33m\u001b[0m\u001b[1;33m\u001b[0m\u001b[1;33m\u001b[0m\u001b[0m\n",
      "\u001b[1;32m~\\anaconda3\\lib\\http\\client.py\u001b[0m in \u001b[0;36mrequest\u001b[1;34m(self, method, url, body, headers, encode_chunked)\u001b[0m\n\u001b[0;32m   1253\u001b[0m                 encode_chunked=False):\n\u001b[0;32m   1254\u001b[0m         \u001b[1;34m\"\"\"Send a complete request to the server.\"\"\"\u001b[0m\u001b[1;33m\u001b[0m\u001b[1;33m\u001b[0m\u001b[0m\n\u001b[1;32m-> 1255\u001b[1;33m         \u001b[0mself\u001b[0m\u001b[1;33m.\u001b[0m\u001b[0m_send_request\u001b[0m\u001b[1;33m(\u001b[0m\u001b[0mmethod\u001b[0m\u001b[1;33m,\u001b[0m \u001b[0murl\u001b[0m\u001b[1;33m,\u001b[0m \u001b[0mbody\u001b[0m\u001b[1;33m,\u001b[0m \u001b[0mheaders\u001b[0m\u001b[1;33m,\u001b[0m \u001b[0mencode_chunked\u001b[0m\u001b[1;33m)\u001b[0m\u001b[1;33m\u001b[0m\u001b[1;33m\u001b[0m\u001b[0m\n\u001b[0m\u001b[0;32m   1256\u001b[0m \u001b[1;33m\u001b[0m\u001b[0m\n\u001b[0;32m   1257\u001b[0m     \u001b[1;32mdef\u001b[0m \u001b[0m_send_request\u001b[0m\u001b[1;33m(\u001b[0m\u001b[0mself\u001b[0m\u001b[1;33m,\u001b[0m \u001b[0mmethod\u001b[0m\u001b[1;33m,\u001b[0m \u001b[0murl\u001b[0m\u001b[1;33m,\u001b[0m \u001b[0mbody\u001b[0m\u001b[1;33m,\u001b[0m \u001b[0mheaders\u001b[0m\u001b[1;33m,\u001b[0m \u001b[0mencode_chunked\u001b[0m\u001b[1;33m)\u001b[0m\u001b[1;33m:\u001b[0m\u001b[1;33m\u001b[0m\u001b[1;33m\u001b[0m\u001b[0m\n",
      "\u001b[1;32m~\\anaconda3\\lib\\http\\client.py\u001b[0m in \u001b[0;36m_send_request\u001b[1;34m(self, method, url, body, headers, encode_chunked)\u001b[0m\n\u001b[0;32m   1299\u001b[0m             \u001b[1;31m# default charset of iso-8859-1.\u001b[0m\u001b[1;33m\u001b[0m\u001b[1;33m\u001b[0m\u001b[1;33m\u001b[0m\u001b[0m\n\u001b[0;32m   1300\u001b[0m             \u001b[0mbody\u001b[0m \u001b[1;33m=\u001b[0m \u001b[0m_encode\u001b[0m\u001b[1;33m(\u001b[0m\u001b[0mbody\u001b[0m\u001b[1;33m,\u001b[0m \u001b[1;34m'body'\u001b[0m\u001b[1;33m)\u001b[0m\u001b[1;33m\u001b[0m\u001b[1;33m\u001b[0m\u001b[0m\n\u001b[1;32m-> 1301\u001b[1;33m         \u001b[0mself\u001b[0m\u001b[1;33m.\u001b[0m\u001b[0mendheaders\u001b[0m\u001b[1;33m(\u001b[0m\u001b[0mbody\u001b[0m\u001b[1;33m,\u001b[0m \u001b[0mencode_chunked\u001b[0m\u001b[1;33m=\u001b[0m\u001b[0mencode_chunked\u001b[0m\u001b[1;33m)\u001b[0m\u001b[1;33m\u001b[0m\u001b[1;33m\u001b[0m\u001b[0m\n\u001b[0m\u001b[0;32m   1302\u001b[0m \u001b[1;33m\u001b[0m\u001b[0m\n\u001b[0;32m   1303\u001b[0m     \u001b[1;32mdef\u001b[0m \u001b[0mgetresponse\u001b[0m\u001b[1;33m(\u001b[0m\u001b[0mself\u001b[0m\u001b[1;33m)\u001b[0m\u001b[1;33m:\u001b[0m\u001b[1;33m\u001b[0m\u001b[1;33m\u001b[0m\u001b[0m\n",
      "\u001b[1;32m~\\anaconda3\\lib\\http\\client.py\u001b[0m in \u001b[0;36mendheaders\u001b[1;34m(self, message_body, encode_chunked)\u001b[0m\n\u001b[0;32m   1248\u001b[0m         \u001b[1;32melse\u001b[0m\u001b[1;33m:\u001b[0m\u001b[1;33m\u001b[0m\u001b[1;33m\u001b[0m\u001b[0m\n\u001b[0;32m   1249\u001b[0m             \u001b[1;32mraise\u001b[0m \u001b[0mCannotSendHeader\u001b[0m\u001b[1;33m(\u001b[0m\u001b[1;33m)\u001b[0m\u001b[1;33m\u001b[0m\u001b[1;33m\u001b[0m\u001b[0m\n\u001b[1;32m-> 1250\u001b[1;33m         \u001b[0mself\u001b[0m\u001b[1;33m.\u001b[0m\u001b[0m_send_output\u001b[0m\u001b[1;33m(\u001b[0m\u001b[0mmessage_body\u001b[0m\u001b[1;33m,\u001b[0m \u001b[0mencode_chunked\u001b[0m\u001b[1;33m=\u001b[0m\u001b[0mencode_chunked\u001b[0m\u001b[1;33m)\u001b[0m\u001b[1;33m\u001b[0m\u001b[1;33m\u001b[0m\u001b[0m\n\u001b[0m\u001b[0;32m   1251\u001b[0m \u001b[1;33m\u001b[0m\u001b[0m\n\u001b[0;32m   1252\u001b[0m     def request(self, method, url, body=None, headers={}, *,\n",
      "\u001b[1;32m~\\anaconda3\\lib\\http\\client.py\u001b[0m in \u001b[0;36m_send_output\u001b[1;34m(self, message_body, encode_chunked)\u001b[0m\n\u001b[0;32m   1008\u001b[0m         \u001b[0mmsg\u001b[0m \u001b[1;33m=\u001b[0m \u001b[1;34mb\"\\r\\n\"\u001b[0m\u001b[1;33m.\u001b[0m\u001b[0mjoin\u001b[0m\u001b[1;33m(\u001b[0m\u001b[0mself\u001b[0m\u001b[1;33m.\u001b[0m\u001b[0m_buffer\u001b[0m\u001b[1;33m)\u001b[0m\u001b[1;33m\u001b[0m\u001b[1;33m\u001b[0m\u001b[0m\n\u001b[0;32m   1009\u001b[0m         \u001b[1;32mdel\u001b[0m \u001b[0mself\u001b[0m\u001b[1;33m.\u001b[0m\u001b[0m_buffer\u001b[0m\u001b[1;33m[\u001b[0m\u001b[1;33m:\u001b[0m\u001b[1;33m]\u001b[0m\u001b[1;33m\u001b[0m\u001b[1;33m\u001b[0m\u001b[0m\n\u001b[1;32m-> 1010\u001b[1;33m         \u001b[0mself\u001b[0m\u001b[1;33m.\u001b[0m\u001b[0msend\u001b[0m\u001b[1;33m(\u001b[0m\u001b[0mmsg\u001b[0m\u001b[1;33m)\u001b[0m\u001b[1;33m\u001b[0m\u001b[1;33m\u001b[0m\u001b[0m\n\u001b[0m\u001b[0;32m   1011\u001b[0m \u001b[1;33m\u001b[0m\u001b[0m\n\u001b[0;32m   1012\u001b[0m         \u001b[1;32mif\u001b[0m \u001b[0mmessage_body\u001b[0m \u001b[1;32mis\u001b[0m \u001b[1;32mnot\u001b[0m \u001b[1;32mNone\u001b[0m\u001b[1;33m:\u001b[0m\u001b[1;33m\u001b[0m\u001b[1;33m\u001b[0m\u001b[0m\n",
      "\u001b[1;32m~\\anaconda3\\lib\\http\\client.py\u001b[0m in \u001b[0;36msend\u001b[1;34m(self, data)\u001b[0m\n\u001b[0;32m    948\u001b[0m         \u001b[1;32mif\u001b[0m \u001b[0mself\u001b[0m\u001b[1;33m.\u001b[0m\u001b[0msock\u001b[0m \u001b[1;32mis\u001b[0m \u001b[1;32mNone\u001b[0m\u001b[1;33m:\u001b[0m\u001b[1;33m\u001b[0m\u001b[1;33m\u001b[0m\u001b[0m\n\u001b[0;32m    949\u001b[0m             \u001b[1;32mif\u001b[0m \u001b[0mself\u001b[0m\u001b[1;33m.\u001b[0m\u001b[0mauto_open\u001b[0m\u001b[1;33m:\u001b[0m\u001b[1;33m\u001b[0m\u001b[1;33m\u001b[0m\u001b[0m\n\u001b[1;32m--> 950\u001b[1;33m                 \u001b[0mself\u001b[0m\u001b[1;33m.\u001b[0m\u001b[0mconnect\u001b[0m\u001b[1;33m(\u001b[0m\u001b[1;33m)\u001b[0m\u001b[1;33m\u001b[0m\u001b[1;33m\u001b[0m\u001b[0m\n\u001b[0m\u001b[0;32m    951\u001b[0m             \u001b[1;32melse\u001b[0m\u001b[1;33m:\u001b[0m\u001b[1;33m\u001b[0m\u001b[1;33m\u001b[0m\u001b[0m\n\u001b[0;32m    952\u001b[0m                 \u001b[1;32mraise\u001b[0m \u001b[0mNotConnected\u001b[0m\u001b[1;33m(\u001b[0m\u001b[1;33m)\u001b[0m\u001b[1;33m\u001b[0m\u001b[1;33m\u001b[0m\u001b[0m\n",
      "\u001b[1;32m~\\anaconda3\\lib\\site-packages\\urllib3\\connection.py\u001b[0m in \u001b[0;36mconnect\u001b[1;34m(self)\u001b[0m\n\u001b[0;32m    185\u001b[0m \u001b[1;33m\u001b[0m\u001b[0m\n\u001b[0;32m    186\u001b[0m     \u001b[1;32mdef\u001b[0m \u001b[0mconnect\u001b[0m\u001b[1;33m(\u001b[0m\u001b[0mself\u001b[0m\u001b[1;33m)\u001b[0m\u001b[1;33m:\u001b[0m\u001b[1;33m\u001b[0m\u001b[1;33m\u001b[0m\u001b[0m\n\u001b[1;32m--> 187\u001b[1;33m         \u001b[0mconn\u001b[0m \u001b[1;33m=\u001b[0m \u001b[0mself\u001b[0m\u001b[1;33m.\u001b[0m\u001b[0m_new_conn\u001b[0m\u001b[1;33m(\u001b[0m\u001b[1;33m)\u001b[0m\u001b[1;33m\u001b[0m\u001b[1;33m\u001b[0m\u001b[0m\n\u001b[0m\u001b[0;32m    188\u001b[0m         \u001b[0mself\u001b[0m\u001b[1;33m.\u001b[0m\u001b[0m_prepare_conn\u001b[0m\u001b[1;33m(\u001b[0m\u001b[0mconn\u001b[0m\u001b[1;33m)\u001b[0m\u001b[1;33m\u001b[0m\u001b[1;33m\u001b[0m\u001b[0m\n\u001b[0;32m    189\u001b[0m \u001b[1;33m\u001b[0m\u001b[0m\n",
      "\u001b[1;32m~\\anaconda3\\lib\\site-packages\\urllib3\\connection.py\u001b[0m in \u001b[0;36m_new_conn\u001b[1;34m(self)\u001b[0m\n\u001b[0;32m    157\u001b[0m \u001b[1;33m\u001b[0m\u001b[0m\n\u001b[0;32m    158\u001b[0m         \u001b[1;32mtry\u001b[0m\u001b[1;33m:\u001b[0m\u001b[1;33m\u001b[0m\u001b[1;33m\u001b[0m\u001b[0m\n\u001b[1;32m--> 159\u001b[1;33m             conn = connection.create_connection(\n\u001b[0m\u001b[0;32m    160\u001b[0m                 \u001b[1;33m(\u001b[0m\u001b[0mself\u001b[0m\u001b[1;33m.\u001b[0m\u001b[0m_dns_host\u001b[0m\u001b[1;33m,\u001b[0m \u001b[0mself\u001b[0m\u001b[1;33m.\u001b[0m\u001b[0mport\u001b[0m\u001b[1;33m)\u001b[0m\u001b[1;33m,\u001b[0m \u001b[0mself\u001b[0m\u001b[1;33m.\u001b[0m\u001b[0mtimeout\u001b[0m\u001b[1;33m,\u001b[0m \u001b[1;33m**\u001b[0m\u001b[0mextra_kw\u001b[0m\u001b[1;33m\u001b[0m\u001b[1;33m\u001b[0m\u001b[0m\n\u001b[0;32m    161\u001b[0m             )\n",
      "\u001b[1;32m~\\anaconda3\\lib\\site-packages\\urllib3\\util\\connection.py\u001b[0m in \u001b[0;36mcreate_connection\u001b[1;34m(address, timeout, source_address, socket_options)\u001b[0m\n\u001b[0;32m     72\u001b[0m             \u001b[1;32mif\u001b[0m \u001b[0msource_address\u001b[0m\u001b[1;33m:\u001b[0m\u001b[1;33m\u001b[0m\u001b[1;33m\u001b[0m\u001b[0m\n\u001b[0;32m     73\u001b[0m                 \u001b[0msock\u001b[0m\u001b[1;33m.\u001b[0m\u001b[0mbind\u001b[0m\u001b[1;33m(\u001b[0m\u001b[0msource_address\u001b[0m\u001b[1;33m)\u001b[0m\u001b[1;33m\u001b[0m\u001b[1;33m\u001b[0m\u001b[0m\n\u001b[1;32m---> 74\u001b[1;33m             \u001b[0msock\u001b[0m\u001b[1;33m.\u001b[0m\u001b[0mconnect\u001b[0m\u001b[1;33m(\u001b[0m\u001b[0msa\u001b[0m\u001b[1;33m)\u001b[0m\u001b[1;33m\u001b[0m\u001b[1;33m\u001b[0m\u001b[0m\n\u001b[0m\u001b[0;32m     75\u001b[0m             \u001b[1;32mreturn\u001b[0m \u001b[0msock\u001b[0m\u001b[1;33m\u001b[0m\u001b[1;33m\u001b[0m\u001b[0m\n\u001b[0;32m     76\u001b[0m \u001b[1;33m\u001b[0m\u001b[0m\n",
      "\u001b[1;31mKeyboardInterrupt\u001b[0m: "
     ]
    }
   ],
   "source": [
    "# Save config information\n",
    "\n",
    "url = \"http://api.openweathermap.org/data/2.5/air_pollution?\"\n",
    "api_key= \"90d059c74bd13bcc4087b66e982c1bf1\"\n",
    "\n",
    "# Counter to sort through response\n",
    "number = 0\n",
    "group = 1\n",
    "cities= latlon_df[\"Place Name\"]\n",
    "\n",
    "# Create DataFrame\n",
    "air_df = pd.DataFrame()\n",
    "\n",
    "air_df[\"Date\"] = \"\"\n",
    "air_df[\"Lat\"] = \"\"\n",
    "air_df[\"Lon\"] = \"\"\n",
    "air_df[\"AQI\"] = \"\"\n",
    "air_df[\"CO\"] = \"\"      \n",
    "air_df[\"NO\"] = \"\"\n",
    "air_df[\"NO2\"] = \"\"\n",
    "air_df[\"O3\"] = \"\"\n",
    "air_df[\"SO2\"] = \"\"\n",
    "air_df[\"PM 2.5\"] = \"\"\n",
    "air_df[\"PM 10\"] = \"\"\n",
    "air_df[\"NH3\"] = \"\"\n",
    "\n",
    "for index, row in latlon_df.iterrows():\n",
    "    \n",
    "    lat = row[\"lat\"]\n",
    "    lon = row[\"lon\"]\n",
    "    #print(lat)\n",
    "    #print(lon)\n",
    "    query_url = f\"{url}lat={lat}&lon={lon}&appid={api_key}\"\n",
    "    air_response = requests.get(query_url).json()\n",
    " \n",
    "    try:\n",
    "        print(f\"Processing Record {number}  of Group {group} | {lat}{lon}.\")\n",
    "        \n",
    "        print (query_url) \n",
    "    \n",
    "        air_df.loc[index, \"Date\"] = air_response[\"list\"][\"dt\"]  \n",
    "        air_df.loc[index, \"lon\"] = air_response[\"coord\"]\n",
    "        air_df.loc[index, \"lat\"] = air_response[\"coord\"]\n",
    "        air_df.loc[index, \"AQI\"] = air_response[\"list\"][\"main\"][\"aqi\"] \n",
    "        air_df.loc[index, \"CO\"] = air_response[\"list\"][\"components\"][\"co\"]  \n",
    "        air_df.loc[index, \"NO\"] = air_response[\"list\"][\"components\"][\"no\"]\n",
    "        air_df.loc[index, \"NO2\"] = air_response[\"list\"][\"components\"][\"no2\"]  \n",
    "        air_df.loc[index, \"O3\"] = air_response[\"list\"][\"components\"][\"o3\"]\n",
    "        air_df.loc[index, \"SO2\"] = air_response[\"list\"][\"components\"][\"so2\"]\n",
    "        air_df.loc[index, \"PM 2.5\"] = air_response[\"list\"][\"components\"][\"pm2_5\"]\n",
    "        air_df.loc[index, \"PM 10\"] = air_response[\"list\"][\"components\"][\"pm10\"]\n",
    "        air_df.loc[index, \"NH3\"] = air_response[\"list\"][\"components\"][\"nh3\"]\n",
    "        \n",
    "    except:\n",
    "        print(f\"not working\")\n",
    "        pass\n",
    "        \n",
    "    \n",
    "    # To save money on API calls\n",
    "    number = number + 1\n",
    "    if number == 50:\n",
    "        number= 0\n",
    "        group = group + 1\n"
   ]
  },
  {
   "cell_type": "code",
   "execution_count": 23,
   "metadata": {},
   "outputs": [
    {
     "name": "stdout",
     "output_type": "stream",
     "text": [
      "Empty DataFrame\n",
      "Columns: [Date, Lat, Lon, AQI, CO, NO, NO2, O3, SO2, PM 2.5, PM 10, NH3]\n",
      "Index: []\n"
     ]
    }
   ],
   "source": [
    "print(air_df)"
   ]
  },
  {
   "cell_type": "code",
   "execution_count": 33,
   "metadata": {
    "scrolled": true
   },
   "outputs": [
    {
     "name": "stdout",
     "output_type": "stream",
     "text": [
      "The weather API responded with: {'coord': {'lon': 50, 'lat': 50}, 'list': [{'main': {'aqi': 1}, 'components': {'co': 153.54, 'no': 0, 'no2': 0.5, 'o3': 47.21, 'so2': 0.97, 'pm2_5': 0.98, 'pm10': 1.11, 'nh3': 0.28}, 'dt': 1626138000}]}.\n"
     ]
    }
   ],
   "source": [
    "# Get weather data\n",
    "aq_response = requests.get(query_url)\n",
    "\n",
    "# Get the temperature from the response\n",
    "print(f\"The weather API responded with: {air_json}.\")"
   ]
  },
  {
   "cell_type": "code",
   "execution_count": null,
   "metadata": {},
   "outputs": [],
   "source": []
  },
  {
   "cell_type": "code",
   "execution_count": null,
   "metadata": {
    "scrolled": true
   },
   "outputs": [],
   "source": [
    "# Check that the API call returned more than 500, for homework requirement\n",
    "print(len(latlon_df))"
   ]
  },
  {
   "cell_type": "code",
   "execution_count": null,
   "metadata": {},
   "outputs": [],
   "source": []
  },
  {
   "cell_type": "code",
   "execution_count": null,
   "metadata": {},
   "outputs": [],
   "source": []
  }
 ],
 "metadata": {
  "kernelspec": {
   "display_name": "Python 3",
   "language": "python",
   "name": "python3"
  },
  "language_info": {
   "codemirror_mode": {
    "name": "ipython",
    "version": 3
   },
   "file_extension": ".py",
   "mimetype": "text/x-python",
   "name": "python",
   "nbconvert_exporter": "python",
   "pygments_lexer": "ipython3",
   "version": "3.8.5"
  }
 },
 "nbformat": 4,
 "nbformat_minor": 4
}
