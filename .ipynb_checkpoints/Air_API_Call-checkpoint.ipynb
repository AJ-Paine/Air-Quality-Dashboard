{
 "cells": [
  {
   "cell_type": "code",
   "execution_count": null,
   "metadata": {},
   "outputs": [],
   "source": []
  },
  {
   "cell_type": "code",
   "execution_count": 31,
   "metadata": {},
   "outputs": [],
   "source": [
    "# Dependencies\n",
    "import pandas as pd\n",
    "import json\n",
    "import requests\n",
    "#from config import api_key"
   ]
  },
  {
   "cell_type": "code",
   "execution_count": 34,
   "metadata": {},
   "outputs": [
    {
     "name": "stdout",
     "output_type": "stream",
     "text": [
      "<_io.TextIOWrapper name='ColoCitiesDataClean.csv' mode='r' encoding='cp1252'>\n"
     ]
    }
   ],
   "source": [
    "with open('ColoCitiesDataClean.csv') as f:\n",
    "    print(f)"
   ]
  },
  {
   "cell_type": "code",
   "execution_count": 35,
   "metadata": {},
   "outputs": [
    {
     "data": {
      "text/html": [
       "<div>\n",
       "<style scoped>\n",
       "    .dataframe tbody tr th:only-of-type {\n",
       "        vertical-align: middle;\n",
       "    }\n",
       "\n",
       "    .dataframe tbody tr th {\n",
       "        vertical-align: top;\n",
       "    }\n",
       "\n",
       "    .dataframe thead th {\n",
       "        text-align: right;\n",
       "    }\n",
       "</style>\n",
       "<table border=\"1\" class=\"dataframe\">\n",
       "  <thead>\n",
       "    <tr style=\"text-align: right;\">\n",
       "      <th></th>\n",
       "      <th>Place Name</th>\n",
       "      <th>lat</th>\n",
       "      <th>lon</th>\n",
       "    </tr>\n",
       "  </thead>\n",
       "  <tbody>\n",
       "    <tr>\n",
       "      <th>0</th>\n",
       "      <td>Aguilar</td>\n",
       "      <td>37.403611</td>\n",
       "      <td>-104.655000</td>\n",
       "    </tr>\n",
       "    <tr>\n",
       "      <th>1</th>\n",
       "      <td>Akron</td>\n",
       "      <td>40.163333</td>\n",
       "      <td>-103.220278</td>\n",
       "    </tr>\n",
       "    <tr>\n",
       "      <th>2</th>\n",
       "      <td>Alamosa</td>\n",
       "      <td>37.475278</td>\n",
       "      <td>-105.876944</td>\n",
       "    </tr>\n",
       "    <tr>\n",
       "      <th>3</th>\n",
       "      <td>Alma</td>\n",
       "      <td>39.285833</td>\n",
       "      <td>-106.066944</td>\n",
       "    </tr>\n",
       "    <tr>\n",
       "      <th>4</th>\n",
       "      <td>Antonito</td>\n",
       "      <td>37.076111</td>\n",
       "      <td>-106.010278</td>\n",
       "    </tr>\n",
       "  </tbody>\n",
       "</table>\n",
       "</div>"
      ],
      "text/plain": [
       "  Place Name        lat         lon\n",
       "0    Aguilar  37.403611 -104.655000\n",
       "1      Akron  40.163333 -103.220278\n",
       "2    Alamosa  37.475278 -105.876944\n",
       "3       Alma  39.285833 -106.066944\n",
       "4   Antonito  37.076111 -106.010278"
      ]
     },
     "execution_count": 35,
     "metadata": {},
     "output_type": "execute_result"
    }
   ],
   "source": [
    "latlon_df = pd.read_csv(\"./ColoCitiesDataClean.csv\", encoding='cp1252')\n",
    "latlon_df.head()"
   ]
  },
  {
   "cell_type": "code",
   "execution_count": 43,
   "metadata": {},
   "outputs": [
    {
     "name": "stdout",
     "output_type": "stream",
     "text": [
      "{'coord': {'lon': -104.655, 'lat': 37.4036}, 'list': [{'main': {'aqi': 2}, 'components': {'co': 166.89, 'no': 0.03, 'no2': 0.87, 'o3': 111.58, 'so2': 0.19, 'pm2_5': 13.11, 'pm10': 16, 'nh3': 0.92}, 'dt': 1626138000}]}\n"
     ]
    }
   ],
   "source": [
    "# Save config information\n",
    "\n",
    "url = \"http://api.openweathermap.org/data/2.5/air_pollution?\"\n",
    "api_key= \"90d059c74bd13bcc4087b66e982c1bf1\"\n",
    "lat=37.40361111\n",
    "lon=-104.655\n",
    "\n",
    "query_url = f\"{url}lat={lat}&lon={lon}&appid={api_key}\"\n",
    "air_response = requests.get(query_url).json()\n",
    "\n",
    "print(air_response)"
   ]
  },
  {
   "cell_type": "code",
   "execution_count": null,
   "metadata": {},
   "outputs": [],
   "source": [
    "# Save config information\n",
    "\n",
    "url = \"http://api.openweathermap.org/data/2.5/air_pollution?\"\n",
    "api_key= \"90d059c74bd13bcc4087b66e982c1bf1\"\n",
    "\n",
    "# Counter to sort through response\n",
    "number = 0\n",
    "group = 1\n",
    "\n",
    "for index, row in latlon_df.iterrows():\n",
    "    \n",
    "    lat = row[\"lat\"]\n",
    "    lon = row[\"lon\"]\n",
    "    #print(lat)\n",
    "    #print(lon)\n",
    "    query_url = f\"{url}lat={lat}&lon={lon}&appid={api_key}\"\n",
    "    air_response = requests.get(query_url).json()\n",
    " \n",
    "    try:\n",
    "        print(f\"Processing Record {number}  of Group {group} | {lat}{lon}.\")\n",
    "        \n",
    "        print (query_url) \n",
    "    \n",
    "        #latlon_df.loc[index, \"lat\"] = air_response[\"lat\"][\"lon\"]  \n",
    "        #latlon_df.loc[index, \"lon\"] = air_response[\"lat\"][\"lon\"]\n",
    "        \n",
    "    except:\n",
    "        print(f\"Air isn't available...skipping {lat}.\")\n",
    "    \n",
    "    # To save money on API calls\n",
    "    number = number + 1\n",
    "    if number == 50:\n",
    "        number= 0\n",
    "        group = group + 1\n"
   ]
  },
  {
   "cell_type": "code",
   "execution_count": 33,
   "metadata": {},
   "outputs": [
    {
     "name": "stdout",
     "output_type": "stream",
     "text": [
      "The weather API responded with: {'coord': {'lon': 50, 'lat': 50}, 'list': [{'main': {'aqi': 1}, 'components': {'co': 153.54, 'no': 0, 'no2': 0.5, 'o3': 47.21, 'so2': 0.97, 'pm2_5': 0.98, 'pm10': 1.11, 'nh3': 0.28}, 'dt': 1626138000}]}.\n"
     ]
    }
   ],
   "source": [
    "# Get weather data\n",
    "aq_response = requests.get(query_url)\n",
    "\n",
    "# Get the temperature from the response\n",
    "print(f\"The weather API responded with: {air_json}.\")"
   ]
  },
  {
   "cell_type": "code",
   "execution_count": 30,
   "metadata": {
    "scrolled": true
   },
   "outputs": [
    {
     "data": {
      "text/html": [
       "<div>\n",
       "<style scoped>\n",
       "    .dataframe tbody tr th:only-of-type {\n",
       "        vertical-align: middle;\n",
       "    }\n",
       "\n",
       "    .dataframe tbody tr th {\n",
       "        vertical-align: top;\n",
       "    }\n",
       "\n",
       "    .dataframe thead th {\n",
       "        text-align: right;\n",
       "    }\n",
       "</style>\n",
       "<table border=\"1\" class=\"dataframe\">\n",
       "  <thead>\n",
       "    <tr style=\"text-align: right;\">\n",
       "      <th></th>\n",
       "      <th>Place Name</th>\n",
       "      <th>lat</th>\n",
       "      <th>lon</th>\n",
       "    </tr>\n",
       "  </thead>\n",
       "  <tbody>\n",
       "    <tr>\n",
       "      <th>0</th>\n",
       "      <td>Aguilar</td>\n",
       "      <td>37.403611</td>\n",
       "      <td>-104.655000</td>\n",
       "    </tr>\n",
       "    <tr>\n",
       "      <th>1</th>\n",
       "      <td>Akron</td>\n",
       "      <td>40.163333</td>\n",
       "      <td>-103.220278</td>\n",
       "    </tr>\n",
       "    <tr>\n",
       "      <th>2</th>\n",
       "      <td>Alamosa</td>\n",
       "      <td>37.475278</td>\n",
       "      <td>-105.876944</td>\n",
       "    </tr>\n",
       "    <tr>\n",
       "      <th>3</th>\n",
       "      <td>Alma</td>\n",
       "      <td>39.285833</td>\n",
       "      <td>-106.066944</td>\n",
       "    </tr>\n",
       "    <tr>\n",
       "      <th>4</th>\n",
       "      <td>Antonito</td>\n",
       "      <td>37.076111</td>\n",
       "      <td>-106.010278</td>\n",
       "    </tr>\n",
       "  </tbody>\n",
       "</table>\n",
       "</div>"
      ],
      "text/plain": [
       "  Place Name        lat         lon\n",
       "0    Aguilar  37.403611 -104.655000\n",
       "1      Akron  40.163333 -103.220278\n",
       "2    Alamosa  37.475278 -105.876944\n",
       "3       Alma  39.285833 -106.066944\n",
       "4   Antonito  37.076111 -106.010278"
      ]
     },
     "execution_count": 30,
     "metadata": {},
     "output_type": "execute_result"
    }
   ],
   "source": []
  },
  {
   "cell_type": "code",
   "execution_count": 29,
   "metadata": {},
   "outputs": [
    {
     "name": "stdout",
     "output_type": "stream",
     "text": [
      "<_io.TextIOWrapper name='ColoCitiesDataClean.csv' mode='r' encoding='cp1252'>\n"
     ]
    }
   ],
   "source": []
  },
  {
   "cell_type": "code",
   "execution_count": null,
   "metadata": {},
   "outputs": [],
   "source": []
  }
 ],
 "metadata": {
  "kernelspec": {
   "display_name": "Python 3",
   "language": "python",
   "name": "python3"
  },
  "language_info": {
   "codemirror_mode": {
    "name": "ipython",
    "version": 3
   },
   "file_extension": ".py",
   "mimetype": "text/x-python",
   "name": "python",
   "nbconvert_exporter": "python",
   "pygments_lexer": "ipython3",
   "version": "3.8.5"
  }
 },
 "nbformat": 4,
 "nbformat_minor": 4
}
